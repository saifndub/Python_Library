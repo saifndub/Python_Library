{
 "cells": [
  {
   "attachments": {},
   "cell_type": "markdown",
   "metadata": {},
   "source": [
    "### What is NumPy\n",
    "- Stands for Numerical Python\n",
    "- A Python package for scientific computing\n",
    "    * Discrete Fourier transforms\n",
    "    * Basic linear algebra\n",
    "    * Basic statistical operations"
   ]
  },
  {
   "attachments": {},
   "cell_type": "markdown",
   "metadata": {},
   "source": [
    "https://www.javatpoint.com/images-in-markdown\n",
    "https://www.youtube.com/watch?v=0A0OsJfA8_g&list=PLF-F70WLa6yObTJddaaUoyAO7lTttQ3ay"
   ]
  },
  {
   "attachments": {},
   "cell_type": "markdown",
   "metadata": {},
   "source": [
    "### Why NumPy?\n",
    "- It's Fast\n",
    "- It's needs less memory.\n",
    "- The core of the NumPy package, is the ndarray object."
   ]
  },
  {
   "attachments": {},
   "cell_type": "markdown",
   "metadata": {},
   "source": [
    "<!--![Link Name](ndarray.png) -->\n",
    "https://linuxhint.com/add-images-markdown-modify-image-size/\n",
    "<img src=\"ndarray.png\" width=\"60%\" height=\"60%\">\n"
   ]
  },
  {
   "attachments": {},
   "cell_type": "markdown",
   "metadata": {},
   "source": []
  }
 ],
 "metadata": {
  "language_info": {
   "name": "python"
  },
  "orig_nbformat": 4
 },
 "nbformat": 4,
 "nbformat_minor": 2
}
